{
 "cells": [
  {
   "cell_type": "markdown",
   "metadata": {},
   "source": [
    "# DSA Sheet\n",
    "[Link to sheet](https://www.geeksforgeeks.org/dsa-sheet-by-love-babbar/)\n",
    "\n"
   ]
  },
  {
   "cell_type": "markdown",
   "metadata": {},
   "source": [
    "## Index \n",
    "1. [Reverse the array](#reverse-the-array) \n",
    "1. [Max and min element in array](#find-the-maximum-and-minimum-element-in-an-array)\n",
    "1. [K’th Smallest/Largest Element in Unsorted Array](#kth-smallestlargest-element-in-unsorted-array)"
   ]
  },
  {
   "cell_type": "code",
   "execution_count": 76,
   "metadata": {},
   "outputs": [],
   "source": [
    "import ipytest \n",
    "import pytest\n",
    "import doctest"
   ]
  },
  {
   "cell_type": "code",
   "execution_count": 77,
   "metadata": {},
   "outputs": [],
   "source": [
    "# Configure pytest\n",
    "ipytest.autoconfig()"
   ]
  },
  {
   "cell_type": "markdown",
   "metadata": {},
   "source": [
    "### Reverse the array"
   ]
  },
  {
   "cell_type": "code",
   "execution_count": 78,
   "metadata": {},
   "outputs": [],
   "source": [
    "def reverse_list(arr: list) -> list:\n",
    "    \"\"\"Function takes a list and reverses it.\\n\n",
    "    Example usage:\n",
    "    >>> reverse_list([1,2,3])\n",
    "    [3, 2, 1]\n",
    "\n",
    "    Args:\n",
    "        arr list: List to reverse\n",
    "    Returns:\n",
    "        list: Function returns a list\n",
    "    \"\"\"\n",
    "    if isinstance(arr, list):\n",
    "        # arr.reverse()\n",
    "        return arr[::-1]  # Can using slicing or reverse method of lists\n",
    "    else:\n",
    "        return \"Not a list\""
   ]
  },
  {
   "cell_type": "code",
   "execution_count": 79,
   "metadata": {},
   "outputs": [
    {
     "name": "stdout",
     "output_type": "stream",
     "text": [
      "\u001b[32m.\u001b[0m\u001b[32m.\u001b[0m\u001b[32m.\u001b[0m\u001b[32m.\u001b[0m\u001b[32m.\u001b[0m\u001b[32m                                                                                        [100%]\u001b[0m\n",
      "\u001b[32m\u001b[32m\u001b[1m5 passed\u001b[0m\u001b[32m in 0.02s\u001b[0m\u001b[0m\n"
     ]
    },
    {
     "data": {
      "text/plain": [
       "TestResults(failed=0, attempted=1)"
      ]
     },
     "execution_count": 79,
     "metadata": {},
     "output_type": "execute_result"
    }
   ],
   "source": [
    "ipytest.clean_tests()  # Allows renaming tests\n",
    "\n",
    "\n",
    "@pytest.mark.parametrize(\n",
    "    \"test_input, expected\",\n",
    "    [\n",
    "        ([], []),\n",
    "        ([1, 2, 3], [3, 2, 1]),\n",
    "        ([\"a\", \"b\", \"c\"], [\"c\", \"b\", \"a\"]),\n",
    "        # Function does not reverse inner lists\n",
    "        ([[1, 2, 3], [4, 5, 6], [7, 8, 9]], [[7, 8, 9], [4, 5, 6], [1, 2, 3]]),\n",
    "    ],\n",
    ")\n",
    "def test_reverse_list(test_input, expected):\n",
    "    assert reverse_list(test_input) == expected\n",
    "\n",
    "\n",
    "def test_reverse_list_tuple():\n",
    "    x = (1, 2, 3)\n",
    "    assert reverse_list(x) == \"Not a list\"\n",
    "\n",
    "\n",
    "ipytest.run()\n",
    "# doctest results\n",
    "doctest.testmod()"
   ]
  },
  {
   "cell_type": "markdown",
   "metadata": {},
   "source": [
    "### Find the maximum and minimum element in an array"
   ]
  },
  {
   "cell_type": "code",
   "execution_count": 80,
   "metadata": {},
   "outputs": [],
   "source": [
    "# Using variables declared before\n",
    "# Same output since previous exercise only modified order\n",
    "# print(f\"a_list max: {max(a_list)} a_list: {min(a_list)}\")\n",
    "# print(f\"a_arr max: {max(a_arr)} a_arr: {min(a_arr)}\")"
   ]
  },
  {
   "cell_type": "markdown",
   "metadata": {},
   "source": [
    " ### K’th Smallest/Largest Element in Unsorted Array\n",
    "\n",
    " Given an array and a number k where k is smaller than the size of the array, we need to find the k’th smallest element in the given array. It is given that all array elements are distinct."
   ]
  },
  {
   "cell_type": "code",
   "execution_count": 81,
   "metadata": {},
   "outputs": [],
   "source": [
    "# def kth_element(k, my_list, min_val=True):\n",
    "#     \"\"\"\n",
    "#     Remove kth element of a list\n",
    "\n",
    "#     Parameters:\n",
    "#     k (int): kth element to return\n",
    "#     my_list (list): List to find the values\n",
    "#     min_val (bool): Find the min or max\n",
    "\n",
    "#     Returns:\n",
    "#     result: Min or max element in list\n",
    "#     \"\"\"\n",
    "#     # Check if i is too big\n",
    "#     # Using not so error message is in else statement\n",
    "#     if not (k > len(my_list)):\n",
    "#         temp = my_list.copy()  # make sure we don't modify original\n",
    "#         # print(temp)\n",
    "#         # print(range(k))\n",
    "#         result = 0\n",
    "#         if min_val:\n",
    "#             for _ in range(k):  # 'underscore because iterator is not used\n",
    "#                 result = min(temp)\n",
    "#                 temp.remove(min(temp))\n",
    "#                 # print('result: ', result)\n",
    "#             return result\n",
    "#         else:\n",
    "#             for _ in range(k):\n",
    "#                 result = max(temp)\n",
    "#                 temp.remove(max(temp))\n",
    "#             return result\n",
    "#     else:\n",
    "#         print(\"k is too big\")\n",
    "\n",
    "\n",
    "# print(\"Min 2nd element in a_list:\", kth_element(10, a_list))\n",
    "# print(\"Max 3rd element in a_list:\", kth_element(3, a_list, False))\n",
    "# # Also works with strings\n",
    "# # Returns a string which alphabetically has the highest/lowest character in the list.\n",
    "# print(\"Min 2nd element in string list:\", kth_element(2, [\"hello\", \"pain\", \"fill\"]))"
   ]
  }
 ],
 "metadata": {
  "kernelspec": {
   "display_name": "Python 3.9.7 ('base')",
   "language": "python",
   "name": "python3"
  },
  "language_info": {
   "codemirror_mode": {
    "name": "ipython",
    "version": 3
   },
   "file_extension": ".py",
   "mimetype": "text/x-python",
   "name": "python",
   "nbconvert_exporter": "python",
   "pygments_lexer": "ipython3",
   "version": "3.9.7"
  },
  "orig_nbformat": 4,
  "vscode": {
   "interpreter": {
    "hash": "cc8863194be94df6e9f82dd3c0db99fc687dba8823e01872905153a9d61d6a1b"
   }
  }
 },
 "nbformat": 4,
 "nbformat_minor": 2
}
