{
 "cells": [
  {
   "cell_type": "markdown",
   "metadata": {},
   "source": [
    "# DSA Sheet\n",
    "[Link to sheet](https://www.geeksforgeeks.org/dsa-sheet-by-love-babbar/)\n",
    "\n"
   ]
  },
  {
   "cell_type": "markdown",
   "metadata": {},
   "source": [
    "## Index \n",
    "1. [Reverse the array](#reverse-the-array) \n",
    "1. [Max and min element in array](#find-the-maximum-and-minimum-element-in-an-array)\n",
    "1. [K’th Smallest/Largest Element in Unsorted Array](#kth-smallestlargest-element-in-unsorted-array)"
   ]
  },
  {
   "cell_type": "markdown",
   "metadata": {},
   "source": [
    "### Reverse the array"
   ]
  },
  {
   "cell_type": "code",
   "execution_count": 3,
   "metadata": {},
   "outputs": [
    {
     "name": "stdout",
     "output_type": "stream",
     "text": [
      "a_list: [1, 5, 100, 4, 2]\n",
      "a_list: [2, 4, 100, 5, 1] b_list: None\n"
     ]
    }
   ],
   "source": [
    "# By default python has lists not arrays \n",
    "a_list = [1,5,100,4,2]\n",
    "print(f'a_list: {a_list}')\n",
    "b_list = a_list.reverse()\n",
    "# lists are mutable and reverse() modifies a_list \n",
    "print(f'a_list: {a_list} b_list: {b_list}')"
   ]
  },
  {
   "cell_type": "code",
   "execution_count": 8,
   "metadata": {},
   "outputs": [
    {
     "name": "stdout",
     "output_type": "stream",
     "text": [
      "a_rr: [  2   4 100   5   1] type of a_list: <class 'list'>\n",
      "a_arr: [  1   5 100   4   2]\n"
     ]
    }
   ],
   "source": [
    "import numpy as np \n",
    "a_arr = np.array(a_list)\n",
    "# a_list is no modified here, still a list \n",
    "print(f'a_rr: {a_arr} type of a_list: {type(a_list)}')\n",
    "print(f'a_arr: {np.flipud(a_arr)}')"
   ]
  },
  {
   "cell_type": "code",
   "execution_count": 12,
   "metadata": {},
   "outputs": [
    {
     "name": "stdout",
     "output_type": "stream",
     "text": [
      "a_arr: [  2   4 100   5   1] b_arr: [  1   5 100   4   2]\n"
     ]
    }
   ],
   "source": [
    "# Extra method \n",
    "# Iterate through array backwards in steps of 1 then save result \n",
    "b_arr = a_arr[::-1]\n",
    "print(f'a_arr: {a_arr} b_arr: {b_arr}')"
   ]
  },
  {
   "cell_type": "markdown",
   "metadata": {},
   "source": [
    "### Find the maximum and minimum element in an array"
   ]
  },
  {
   "cell_type": "code",
   "execution_count": 15,
   "metadata": {},
   "outputs": [
    {
     "name": "stdout",
     "output_type": "stream",
     "text": [
      "a_list max: 100 a_list: 1\n",
      "a_arr max: 100 a_arr: 1\n"
     ]
    }
   ],
   "source": [
    "# Using variables declared before\n",
    "# Same output since previous exercise only modified order\n",
    "print(f'a_list max: {max(a_list)} a_list: {min(a_list)}')\n",
    "print(f'a_arr max: {max(a_arr)} a_arr: {min(a_arr)}')"
   ]
  },
  {
   "cell_type": "markdown",
   "metadata": {},
   "source": [
    " ### K’th Smallest/Largest Element in Unsorted Array\n",
    "\n",
    " Given an array and a number k where k is smaller than the size of the array, we need to find the k’th smallest element in the given array. It is given that all array elements are distinct."
   ]
  },
  {
   "cell_type": "code",
   "execution_count": 35,
   "metadata": {},
   "outputs": [
    {
     "name": "stdout",
     "output_type": "stream",
     "text": [
      "k is too big\n",
      "Min 2nd element in a_list: None\n",
      "Max 3rd element in a_list: 4\n",
      "Min 2nd element in string list: hello\n"
     ]
    }
   ],
   "source": [
    "def kth_element(k, my_list, min_val=True):\n",
    "    ''' \n",
    "    Remove kth element of a list\n",
    "\n",
    "    Parameters:\n",
    "    k (int): kth element to return\n",
    "    my_list (list): List to find the values \n",
    "    min_val (bool): Find the min or max \n",
    "\n",
    "    Returns:\n",
    "    result: Min or max element in list \n",
    "    '''\n",
    "    # Check if i is too big \n",
    "    # Using not so error message is in else statement \n",
    "    if not(k > len(my_list)):\n",
    "        temp = my_list.copy() # make sure we don't modify original\n",
    "        #print(temp)\n",
    "        #print(range(k))\n",
    "        result = 0\n",
    "        if min_val:\n",
    "            for _ in range(k): # 'underscore because iterator is not used\n",
    "                result = min(temp)\n",
    "                temp.remove(min(temp))\n",
    "                # print('result: ', result)\n",
    "            return result\n",
    "        else: \n",
    "            for _ in range(k):\n",
    "                result = max(temp)\n",
    "                temp.remove(max(temp))\n",
    "            return result\n",
    "    else:\n",
    "        print('k is too big')\n",
    "\n",
    "print('Min 2nd element in a_list:', kth_element(10, a_list))\n",
    "print('Max 3rd element in a_list:', kth_element(3, a_list, False))\n",
    "# Also works with strings \n",
    "# Returns a string which alphabetically has the highest/lowest character in the list.\n",
    "print('Min 2nd element in string list:', kth_element(2, ['hello', 'pain', 'fill']))"
   ]
  }
 ],
 "metadata": {
  "kernelspec": {
   "display_name": "Python 3.9.7 ('base')",
   "language": "python",
   "name": "python3"
  },
  "language_info": {
   "codemirror_mode": {
    "name": "ipython",
    "version": 3
   },
   "file_extension": ".py",
   "mimetype": "text/x-python",
   "name": "python",
   "nbconvert_exporter": "python",
   "pygments_lexer": "ipython3",
   "version": "3.9.7"
  },
  "orig_nbformat": 4,
  "vscode": {
   "interpreter": {
    "hash": "cc8863194be94df6e9f82dd3c0db99fc687dba8823e01872905153a9d61d6a1b"
   }
  }
 },
 "nbformat": 4,
 "nbformat_minor": 2
}
