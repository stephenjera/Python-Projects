{
 "cells": [
  {
   "cell_type": "markdown",
   "metadata": {},
   "source": [
    "# DSA Sheet\n",
    "[Link to sheet](https://www.geeksforgeeks.org/dsa-sheet-by-love-babbar/)\n",
    "\n"
   ]
  },
  {
   "cell_type": "markdown",
   "metadata": {},
   "source": [
    "## Index \n",
    "1. [Reverse the array](#reverse-the-array) \n",
    "1. [Max and min element in array](#find-the-maximum-and-minimum-element-in-an-array)\n",
    "1. [K’th Smallest/Largest Element in Unsorted Array](#kth-smallestlargest-element-in-unsorted-array)"
   ]
  },
  {
   "cell_type": "code",
   "execution_count": 1,
   "metadata": {},
   "outputs": [],
   "source": [
    "import ipytest \n",
    "import pytest\n",
    "import doctest\n",
    "from typing import Iterator"
   ]
  },
  {
   "cell_type": "code",
   "execution_count": 2,
   "metadata": {},
   "outputs": [],
   "source": [
    "# Configure pytest\n",
    "ipytest.autoconfig()"
   ]
  },
  {
   "cell_type": "markdown",
   "metadata": {},
   "source": [
    "### Reverse the array"
   ]
  },
  {
   "cell_type": "code",
   "execution_count": 3,
   "metadata": {},
   "outputs": [],
   "source": [
    "def reverse_list(arr: list) -> list:\n",
    "    \"\"\"Function takes a list and reverses it.\\n\n",
    "    Example usage:\n",
    "    >>> reverse_list([1,2,3])\n",
    "    [3, 2, 1]\n",
    "\n",
    "    Args:\n",
    "        arr list: List to reverse\n",
    "    Returns:\n",
    "        list: Function returns a list\n",
    "    \"\"\"\n",
    "    if isinstance(arr, list):\n",
    "        # arr.reverse()\n",
    "        return arr[::-1]  # Can using slicing or reverse method of lists\n",
    "    else:\n",
    "        return \"Not a list\""
   ]
  },
  {
   "cell_type": "code",
   "execution_count": 4,
   "metadata": {},
   "outputs": [
    {
     "name": "stdout",
     "output_type": "stream",
     "text": [
      "\u001b[32m.\u001b[0m\u001b[32m.\u001b[0m\u001b[32m.\u001b[0m\u001b[32m.\u001b[0m\u001b[32m.\u001b[0m\u001b[33m                                                                                        [100%]\u001b[0m\n",
      "\u001b[33m======================================== warnings summary =========================================\u001b[0m\n",
      "d:\\A\\Anaconda\\lib\\site-packages\\pyreadline\\py3k_compat.py:8\n",
      "  d:\\A\\Anaconda\\lib\\site-packages\\pyreadline\\py3k_compat.py:8: DeprecationWarning: Using or importing the ABCs from 'collections' instead of from 'collections.abc' is deprecated since Python 3.3, and in 3.10 it will stop working\n",
      "    return isinstance(x, collections.Callable)\n",
      "\n",
      "-- Docs: https://docs.pytest.org/en/stable/warnings.html\n",
      "\u001b[33m\u001b[32m5 passed\u001b[0m, \u001b[33m\u001b[1m1 warning\u001b[0m\u001b[33m in 0.06s\u001b[0m\u001b[0m\n"
     ]
    },
    {
     "data": {
      "text/plain": [
       "TestResults(failed=0, attempted=1)"
      ]
     },
     "execution_count": 4,
     "metadata": {},
     "output_type": "execute_result"
    }
   ],
   "source": [
    "ipytest.clean_tests()  # Allows renaming tests\n",
    "\n",
    "\n",
    "@pytest.mark.parametrize(\n",
    "    \"test_input, expected\",\n",
    "    [\n",
    "        ([], []),\n",
    "        ([1, 2, 3], [3, 2, 1]),\n",
    "        ([\"a\", \"b\", \"c\"], [\"c\", \"b\", \"a\"]),\n",
    "        # Function does not reverse inner lists\n",
    "        ([[1, 2, 3], [4, 5, 6], [7, 8, 9]], [[7, 8, 9], [4, 5, 6], [1, 2, 3]]),\n",
    "    ],\n",
    ")\n",
    "def test_reverse_list(test_input, expected):\n",
    "    assert reverse_list(test_input) == expected\n",
    "\n",
    "\n",
    "def test_reverse_list_tuple():\n",
    "    x = (1, 2, 3)\n",
    "    assert reverse_list(x) == \"Not a list\"\n",
    "\n",
    "\n",
    "ipytest.run()\n",
    "# doctest results\n",
    "doctest.testmod()"
   ]
  },
  {
   "cell_type": "markdown",
   "metadata": {},
   "source": [
    "### Find the maximum and minimum element in an array"
   ]
  },
  {
   "cell_type": "code",
   "execution_count": 5,
   "metadata": {},
   "outputs": [],
   "source": [
    "def min_max(item: Iterator) -> tuple:\n",
    "    \"\"\"Returns the min and max of an iterable, dictionaries use keys \\n\n",
    "    not values\n",
    "    >>> min_max([1,2,3])\n",
    "    (1, 3)\n",
    "\n",
    "    >>> min_max('string') \n",
    "    ('g', 't')\n",
    "\n",
    "    Args:\n",
    "        item (_type_): _description_\n",
    "\n",
    "    Returns:\n",
    "        tuple: _description_\n",
    "    \"\"\"\n",
    "    return min(item), max(item)"
   ]
  },
  {
   "cell_type": "code",
   "execution_count": 6,
   "metadata": {},
   "outputs": [
    {
     "name": "stdout",
     "output_type": "stream",
     "text": [
      "\u001b[32m.\u001b[0m\u001b[32m.\u001b[0m\u001b[32m.\u001b[0m\u001b[32m.\u001b[0m\u001b[32m.\u001b[0m\u001b[32m.\u001b[0m\u001b[32m.\u001b[0m\u001b[32m.\u001b[0m\u001b[32m                                                                                     [100%]\u001b[0m\n",
      "\u001b[32m\u001b[32m\u001b[1m8 passed\u001b[0m\u001b[32m in 0.08s\u001b[0m\u001b[0m\n"
     ]
    },
    {
     "data": {
      "text/plain": [
       "TestResults(failed=0, attempted=3)"
      ]
     },
     "execution_count": 6,
     "metadata": {},
     "output_type": "execute_result"
    }
   ],
   "source": [
    "# Allows renaming tests and remove tests from other cells\n",
    "ipytest.clean_tests()\n",
    "\n",
    "\n",
    "@pytest.mark.parametrize(\n",
    "    \"test_input, expected\",\n",
    "    [\n",
    "        ([1, 2, 3], (1, 3)),\n",
    "        (\"abcde\", (\"a\", \"e\")),\n",
    "        ((9, 8, 7), (7, 9)),\n",
    "        ({(1, 2, 3): 5, (10,): 2}, ((1,2,3),(10,))),\n",
    "    ],\n",
    ")\n",
    "def test_min_max(test_input, expected):\n",
    "    assert min_max(test_input) == expected\n",
    "\n",
    "\n",
    "@pytest.mark.parametrize(\n",
    "    \"test_input\",\n",
    "    [([1, 2, 3, \"4\"]), ((1, 2, 3, \"4\")), ({9, 8, 7, \"h\"}),({\"type\": 5, (10, 9): 2})],\n",
    ")\n",
    "def test_min_max_raises_error_on_mixed_types(test_input):\n",
    "    with pytest.raises(TypeError):\n",
    "        min_max(test_input)\n",
    "\n",
    "\n",
    "ipytest.run()\n",
    "# doctest results\n",
    "doctest.testmod()"
   ]
  },
  {
   "cell_type": "markdown",
   "metadata": {},
   "source": [
    " ### K’th Smallest/Largest Element in Unsorted Array\n",
    "\n",
    " Given an array and a number k where k is smaller than the size of the array, we need to find the k’th smallest element in the given array. It is given that all array elements are distinct."
   ]
  },
  {
   "cell_type": "code",
   "execution_count": 7,
   "metadata": {},
   "outputs": [],
   "source": [
    "def kth_element(k: int, my_list: list, min_val=True):\n",
    "    \"\"\"Remove kth element of a list\\n\n",
    "    >>> kth_element(2, [5,7,8,10])\n",
    "    7\n",
    "\n",
    "    >>> kth_element(2, [5,7,8,10], min_val=False)\n",
    "    8\n",
    "\n",
    "    Args:\n",
    "        k (int): kth element to return\n",
    "        my_list (list): List to find the values\n",
    "        min_val (bool, optional): Find the min or max. Defaults to True.\n",
    "\n",
    "    Returns:\n",
    "        _type_: Min or max element in list\n",
    "    \"\"\"\n",
    "    # Check if i is too big\n",
    "    # Using not so error message is in else statement\n",
    "    if not (k > len(my_list)):\n",
    "        temp = my_list.copy()  # make sure we don't modify original\n",
    "        # print(temp)\n",
    "        # print(range(k))\n",
    "        result = 0\n",
    "        if min_val:\n",
    "            for _ in range(k):  # 'underscore because iterator is not used\n",
    "                result = min(temp)\n",
    "                temp.remove(min(temp))\n",
    "                # print('result: ', result)\n",
    "            return result\n",
    "        else:\n",
    "            for _ in range(k):\n",
    "                result = max(temp)\n",
    "                temp.remove(max(temp))\n",
    "            return result\n",
    "    else:\n",
    "        return \"k is too big\""
   ]
  },
  {
   "cell_type": "code",
   "execution_count": 8,
   "metadata": {},
   "outputs": [
    {
     "name": "stdout",
     "output_type": "stream",
     "text": [
      "\u001b[32m.\u001b[0m\u001b[32m.\u001b[0m\u001b[32m.\u001b[0m\u001b[32m.\u001b[0m\u001b[32m.\u001b[0m\u001b[32m.\u001b[0m\u001b[32m.\u001b[0m\u001b[32m                                                                                      [100%]\u001b[0m\n",
      "\u001b[32m\u001b[32m\u001b[1m7 passed\u001b[0m\u001b[32m in 0.07s\u001b[0m\u001b[0m\n"
     ]
    },
    {
     "data": {
      "text/plain": [
       "TestResults(failed=0, attempted=5)"
      ]
     },
     "execution_count": 8,
     "metadata": {},
     "output_type": "execute_result"
    }
   ],
   "source": [
    "# Allows renaming tests and remove tests from other cells\n",
    "ipytest.clean_tests()\n",
    "\n",
    "\n",
    "@pytest.mark.parametrize(\n",
    "    \"test_k, test_list, expected\",\n",
    "    [\n",
    "        (3, [7, 10, 4, 3, 20, 15], 7),\n",
    "        (4, [7, 10, 4, 3, 20, 15], 10),\n",
    "        (2, [\"hello\", \"pain\", \"fill\"], \"hello\"),\n",
    "    ],\n",
    ")\n",
    "def test_kth_element_min_val(\n",
    "    test_k,\n",
    "    test_list,\n",
    "    expected,\n",
    "):\n",
    "    assert kth_element(test_k, test_list, min_val=True) == expected\n",
    "\n",
    "\n",
    "@pytest.mark.parametrize(\n",
    "    \"test_k, test_list, expected\",\n",
    "    [\n",
    "        (3, [7, 10, 4, 3, 20, 15], 10),\n",
    "        (4, [7, 10, 4, 3, 20, 15], 7),\n",
    "        (1, [\"hello\", \"pain\", \"fill\"], \"pain\"),\n",
    "    ],\n",
    ")\n",
    "def test_kth_element_max_val(\n",
    "    test_k,\n",
    "    test_list,\n",
    "    expected,\n",
    "):\n",
    "    assert kth_element(test_k, test_list, min_val=False) == expected\n",
    "\n",
    "\n",
    "def test_kth_element_k_less_than_arr_size():\n",
    "    assert kth_element(5, [1, 2, 3]) == \"k is too big\"\n",
    "\n",
    "\n",
    "ipytest.run()\n",
    "# doctest results\n",
    "doctest.testmod()"
   ]
  }
 ],
 "metadata": {
  "kernelspec": {
   "display_name": "Python 3.9.7 ('base')",
   "language": "python",
   "name": "python3"
  },
  "language_info": {
   "codemirror_mode": {
    "name": "ipython",
    "version": 3
   },
   "file_extension": ".py",
   "mimetype": "text/x-python",
   "name": "python",
   "nbconvert_exporter": "python",
   "pygments_lexer": "ipython3",
   "version": "3.9.7"
  },
  "orig_nbformat": 4,
  "vscode": {
   "interpreter": {
    "hash": "cc8863194be94df6e9f82dd3c0db99fc687dba8823e01872905153a9d61d6a1b"
   }
  }
 },
 "nbformat": 4,
 "nbformat_minor": 2
}
