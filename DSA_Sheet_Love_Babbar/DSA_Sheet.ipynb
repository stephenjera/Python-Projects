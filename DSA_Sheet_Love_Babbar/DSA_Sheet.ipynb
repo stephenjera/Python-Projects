{
 "cells": [
  {
   "cell_type": "markdown",
   "metadata": {},
   "source": [
    "# DSA Sheet\n",
    "[Link to sheet](https://www.geeksforgeeks.org/dsa-sheet-by-love-babbar/)\n",
    "\n"
   ]
  },
  {
   "cell_type": "markdown",
   "metadata": {},
   "source": [
    "## Index \n",
    "[Reverse the array](#reverse-the-array)"
   ]
  },
  {
   "cell_type": "markdown",
   "metadata": {},
   "source": [
    "### Reverse the array"
   ]
  },
  {
   "cell_type": "code",
   "execution_count": 3,
   "metadata": {},
   "outputs": [
    {
     "name": "stdout",
     "output_type": "stream",
     "text": [
      "a_list: [1, 5, 100, 4, 2]\n",
      "a_list: [2, 4, 100, 5, 1] b_list: None\n"
     ]
    }
   ],
   "source": [
    "# By default python has lists not arrays \n",
    "a_list = [1,5,100,4,2]\n",
    "print(f'a_list: {a_list}')\n",
    "b_list = a_list.reverse()\n",
    "# lists are mutable and reverse() modifies a_list \n",
    "print(f'a_list: {a_list} b_list: {b_list}')"
   ]
  },
  {
   "cell_type": "code",
   "execution_count": 8,
   "metadata": {},
   "outputs": [
    {
     "name": "stdout",
     "output_type": "stream",
     "text": [
      "a_rr: [  2   4 100   5   1] type of a_list: <class 'list'>\n",
      "a_arr: [  1   5 100   4   2]\n"
     ]
    }
   ],
   "source": [
    "import numpy as np \n",
    "a_arr = np.array(a_list)\n",
    "# a_list is no modified here, still a list \n",
    "print(f'a_rr: {a_arr} type of a_list: {type(a_list)}')\n",
    "print(f'a_arr: {np.flipud(a_arr)}')"
   ]
  },
  {
   "cell_type": "code",
   "execution_count": 12,
   "metadata": {},
   "outputs": [
    {
     "name": "stdout",
     "output_type": "stream",
     "text": [
      "a_arr: [  2   4 100   5   1] b_arr: [  1   5 100   4   2]\n"
     ]
    }
   ],
   "source": [
    "# Extra method \n",
    "# Iterate through array backwards in steps of 1 then save result \n",
    "b_arr = a_arr[::-1]\n",
    "print(f'a_arr: {a_arr} b_arr: {b_arr}')"
   ]
  },
  {
   "cell_type": "markdown",
   "metadata": {},
   "source": []
  }
 ],
 "metadata": {
  "kernelspec": {
   "display_name": "Python 3.9.7 ('base')",
   "language": "python",
   "name": "python3"
  },
  "language_info": {
   "codemirror_mode": {
    "name": "ipython",
    "version": 3
   },
   "file_extension": ".py",
   "mimetype": "text/x-python",
   "name": "python",
   "nbconvert_exporter": "python",
   "pygments_lexer": "ipython3",
   "version": "3.9.7"
  },
  "orig_nbformat": 4,
  "vscode": {
   "interpreter": {
    "hash": "cc8863194be94df6e9f82dd3c0db99fc687dba8823e01872905153a9d61d6a1b"
   }
  }
 },
 "nbformat": 4,
 "nbformat_minor": 2
}
