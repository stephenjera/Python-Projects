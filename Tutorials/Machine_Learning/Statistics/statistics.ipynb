{
 "cells": [
  {
   "attachments": {},
   "cell_type": "markdown",
   "metadata": {},
   "source": [
    "# Statistics"
   ]
  },
  {
   "cell_type": "code",
   "execution_count": 2,
   "metadata": {},
   "outputs": [],
   "source": [
    "import math\n",
    "import statistics\n",
    "import numpy as np\n",
    "import scipy.stats\n",
    "import pandas as pd"
   ]
  },
  {
   "attachments": {},
   "cell_type": "markdown",
   "metadata": {},
   "source": [
    "### Types of Measures\n",
    "- **Central Tendency:** tells you about the centres of data e.g. mean, median and mode\n",
    "- **Variability:** tells you about the spread of data e.g. variance and standard deviation\n",
    "- **Correlation or joint variability:** tells you about the relation between a pair of variables in a dataset e.g. correlation coefficient"
   ]
  },
  {
   "attachments": {},
   "cell_type": "markdown",
   "metadata": {},
   "source": [
    "#### Mean"
   ]
  },
  {
   "cell_type": "code",
   "execution_count": 9,
   "metadata": {},
   "outputs": [
    {
     "name": "stdout",
     "output_type": "stream",
     "text": [
      "40.2 40.2 40.2\n",
      "nan nan nan nan 39.666666666666664\n"
     ]
    }
   ],
   "source": [
    "x = [23, 45, 12, 34, 56, 32, 44, 67, 39, 50]\n",
    "mean = sum(x) / len(x)\n",
    "mean2 = statistics.mean(x)\n",
    "mean3 = statistics.fmean(x)  # a faster implementation of mean\n",
    "print(mean, mean2, mean3)\n",
    "\n",
    "\n",
    "x_nan = [23, np.nan, 12, 34, 56, 32, 44, 67, 39, 50]\n",
    "mean4 = sum(x_nan) / len(x_nan)\n",
    "mean5 = statistics.mean(x_nan)\n",
    "mean6 = statistics.fmean(x_nan)\n",
    "mean7 = np.mean(x_nan)\n",
    "mean8 = np.nanmean(x_nan)  # ignore nan values\n",
    "print(mean4, mean5, mean6, mean7, mean8)"
   ]
  },
  {
   "attachments": {},
   "cell_type": "markdown",
   "metadata": {},
   "source": [
    "#### Weighted mean"
   ]
  },
  {
   "cell_type": "code",
   "execution_count": 15,
   "metadata": {},
   "outputs": [
    {
     "name": "stdout",
     "output_type": "stream",
     "text": [
      "6.95 6.95\n"
     ]
    }
   ],
   "source": [
    "# Define the data values\n",
    "x = [8.0, 1, 2.5, 4, 28.0]\n",
    "# Define the weights for each data value\n",
    "w = [0.1, 0.2, 0.3, 0.25, 0.15]\n",
    "\n",
    "# Calculate the weighted mean by multiplying each data value by its weight,\n",
    "# summing the products, and then dividing by the sum of the weights\n",
    "weighted_mean = sum(x_ * w_ for (x_, w_) in zip(x, w)) / sum(w)\n",
    "weighted_mean2 = np.average(x,weights=w)\n",
    "# Print the result\n",
    "print(weighted_mean, weighted_mean2)"
   ]
  },
  {
   "attachments": {},
   "cell_type": "markdown",
   "metadata": {},
   "source": [
    "#### Harmonic mean"
   ]
  },
  {
   "cell_type": "code",
   "execution_count": 20,
   "metadata": {},
   "outputs": [
    {
     "name": "stdout",
     "output_type": "stream",
     "text": [
      "2.7613412228796843 2.7613412228796843 2.7613412228796843\n"
     ]
    }
   ],
   "source": [
    "x = [8.0, 1, 2.5, 4, 28.0]\n",
    "hmean = len(x) / sum(1 / item for item in x)\n",
    "hmean2 = statistics.harmonic_mean(x)\n",
    "hmean3 = scipy.stats.hmean(x)\n",
    "print(hmean, hmean2, hmean3)"
   ]
  },
  {
   "attachments": {},
   "cell_type": "markdown",
   "metadata": {},
   "source": [
    "### Analysis Types\n",
    "\n",
    "- **univariate:** one variable\n",
    "- **bivariate:** two variables\n",
    "- **multivariate:** three or mare variables \n",
    "\n"
   ]
  },
  {
   "attachments": {},
   "cell_type": "markdown",
   "metadata": {},
   "source": [
    "#### Univariate"
   ]
  },
  {
   "cell_type": "code",
   "execution_count": 3,
   "metadata": {},
   "outputs": [
    {
     "name": "stdout",
     "output_type": "stream",
     "text": [
      "Mean: 40.2\n",
      "Median: 41.5\n",
      "Mode: 12\n",
      "Standard Deviation: 15.984714921171134\n"
     ]
    }
   ],
   "source": [
    "# Create a sample data set\n",
    "data = {'ages': [23, 45, 12, 34, 56, 32, 44, 67, 39, 50]}\n",
    "df = pd.DataFrame(data)\n",
    "\n",
    "# Calculate descriptive statistics\n",
    "mean = df['ages'].mean()\n",
    "median = df['ages'].median()\n",
    "mode = df['ages'].mode()\n",
    "std_dev = df['ages'].std()\n",
    "\n",
    "# Print results\n",
    "print('Mean:', mean)\n",
    "print('Median:', median)\n",
    "print('Mode:', mode[0])\n",
    "print('Standard Deviation:', std_dev)"
   ]
  },
  {
   "attachments": {},
   "cell_type": "markdown",
   "metadata": {},
   "source": [
    "### Population and samples \n",
    "- **Population:** set of all elements you're interested in \n",
    "- **Sample**: a subset of a population"
   ]
  },
  {
   "attachments": {},
   "cell_type": "markdown",
   "metadata": {},
   "source": [
    "### Outliers\n",
    "- Natural variation in data\n",
    "- Change in the behavior of the observed system\n",
    "- Errors in data collection"
   ]
  }
 ],
 "metadata": {
  "kernelspec": {
   "display_name": "base",
   "language": "python",
   "name": "python3"
  },
  "language_info": {
   "codemirror_mode": {
    "name": "ipython",
    "version": 3
   },
   "file_extension": ".py",
   "mimetype": "text/x-python",
   "name": "python",
   "nbconvert_exporter": "python",
   "pygments_lexer": "ipython3",
   "version": "3.9.7"
  },
  "orig_nbformat": 4
 },
 "nbformat": 4,
 "nbformat_minor": 2
}
