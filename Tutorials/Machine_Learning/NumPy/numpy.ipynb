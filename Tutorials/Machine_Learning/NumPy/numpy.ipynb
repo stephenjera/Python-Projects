{
 "cells": [
  {
   "attachments": {},
   "cell_type": "markdown",
   "metadata": {},
   "source": [
    "<b><h1 style=\"color: #AAA\">Numpy</h1></b>\n",
    "\n",
    "<h3>NumPy is a Python library used for working with arrays.</h3>"
   ]
  },
  {
   "cell_type": "code",
   "execution_count": 7,
   "metadata": {},
   "outputs": [],
   "source": [
    "import numpy as np"
   ]
  },
  {
   "cell_type": "code",
   "execution_count": 8,
   "metadata": {},
   "outputs": [
    {
     "data": {
      "text/plain": [
       "'1.20.3'"
      ]
     },
     "execution_count": 8,
     "metadata": {},
     "output_type": "execute_result"
    }
   ],
   "source": [
    "# check numpy version \n",
    "np.__version__"
   ]
  },
  {
   "attachments": {},
   "cell_type": "markdown",
   "metadata": {},
   "source": [
    "<h3>Creating Arrays</h3>"
   ]
  },
  {
   "cell_type": "code",
   "execution_count": 9,
   "metadata": {},
   "outputs": [
    {
     "data": {
      "text/plain": [
       "array([1, 2, 3, 4, 5])"
      ]
     },
     "execution_count": 9,
     "metadata": {},
     "output_type": "execute_result"
    }
   ],
   "source": [
    "# creating a numpy array\n",
    "arr = np.array([1, 2, 3, 4, 5]) \n",
    "arr"
   ]
  },
  {
   "cell_type": "code",
   "execution_count": 10,
   "metadata": {},
   "outputs": [
    {
     "data": {
      "text/plain": [
       "numpy.ndarray"
      ]
     },
     "execution_count": 10,
     "metadata": {},
     "output_type": "execute_result"
    }
   ],
   "source": [
    "# check the type of arr\n",
    "type(arr)"
   ]
  },
  {
   "cell_type": "code",
   "execution_count": 17,
   "metadata": {},
   "outputs": [
    {
     "data": {
      "text/plain": [
       "3"
      ]
     },
     "execution_count": 17,
     "metadata": {},
     "output_type": "execute_result"
    }
   ],
   "source": [
    "# can use tuples to create arrays\n",
    "arr_tuple = np.array((1,35,60))\n",
    "arr_tuple"
   ]
  },
  {
   "cell_type": "code",
   "execution_count": 19,
   "metadata": {},
   "outputs": [
    {
     "data": {
      "text/plain": [
       "array({'hello': 'world', 'foo': 'bar'}, dtype=object)"
      ]
     },
     "execution_count": 19,
     "metadata": {},
     "output_type": "execute_result"
    }
   ],
   "source": [
    "# Can use a dict but does not behave like list or tuple\n",
    "arr_dict = np.array({\"hello\": \"world\", \"foo\": \"bar\"})\n",
    "arr_dict"
   ]
  },
  {
   "attachments": {},
   "cell_type": "markdown",
   "metadata": {},
   "source": [
    "<h3>Dimensions in arrays</h3>"
   ]
  },
  {
   "cell_type": "code",
   "execution_count": 34,
   "metadata": {},
   "outputs": [
    {
     "name": "stdout",
     "output_type": "stream",
     "text": [
      "0D array: 42 has 0 dimensions\n",
      "\n",
      "1D array: [1 2 3 4 5] has 1 dimensions\n",
      "\n",
      "2D array:\n",
      " [[1 2 3]\n",
      " [4 5 6]] \n",
      " has 2 dimensions\n",
      "\n",
      "3D array:\n",
      " [[[1 2 3]\n",
      "  [4 5 6]]\n",
      "\n",
      " [[1 2 3]\n",
      "  [4 5 6]]] \n",
      " has a 3 dimensions\n"
     ]
    }
   ],
   "source": [
    "# 0D\n",
    "arr = np.array(42)\n",
    "print(f\"0D array: {arr} has {arr.ndim} dimensions\\n\")  # just a scalar\n",
    "\n",
    "arr = np.array([1, 2, 3, 4, 5])\n",
    "print(f\"1D array: {arr} has {arr.ndim} dimensions\\n\")\n",
    "\n",
    "# An array that has 1-D arrays as its elements is called a 2-D array.\n",
    "arr = np.array([[1, 2, 3], [4, 5, 6]])\n",
    "print(f\"2D array:\\n {arr} \\n has {arr.ndim} dimensions\\n\")\n",
    "\n",
    "# An array that has 2-D arrays (matrices) as its elements is called 3-D array.\n",
    "arr = np.array([[[1, 2, 3], [4, 5, 6]], [[1, 2, 3], [4, 5, 6]]])\n",
    "print(f\"3D array:\\n {arr} \\n has a {arr.ndim} dimensions\")"
   ]
  },
  {
   "cell_type": "code",
   "execution_count": 35,
   "metadata": {},
   "outputs": [
    {
     "name": "stdout",
     "output_type": "stream",
     "text": [
      "[[[[[1 2 3 4]]]]]\n",
      "number of dimensions : 5\n"
     ]
    }
   ],
   "source": [
    "## an array of any dimensions can be created \n",
    "arr = np.array([1, 2, 3, 4], ndmin=5)\n",
    "\n",
    "print(arr)\n",
    "print('number of dimensions :', arr.ndim)"
   ]
  },
  {
   "cell_type": "code",
   "execution_count": 40,
   "metadata": {},
   "outputs": [
    {
     "name": "stdout",
     "output_type": "stream",
     "text": [
      "1\n",
      "2\n",
      "3\n",
      "4\n",
      "5\n",
      "6\n",
      "7\n",
      "8\n"
     ]
    }
   ],
   "source": [
    "# iterate though high dimension arrays\n",
    "arr = np.array([[[1, 2], [3, 4]], [[5, 6], [7, 8]]])\n",
    "\n",
    "for x in np.nditer(arr):\n",
    "  print(x)"
   ]
  },
  {
   "cell_type": "code",
   "execution_count": 41,
   "metadata": {},
   "outputs": [
    {
     "name": "stdout",
     "output_type": "stream",
     "text": [
      "(0, 0) 1\n",
      "(0, 1) 2\n",
      "(0, 2) 3\n",
      "(0, 3) 4\n",
      "(1, 0) 5\n",
      "(1, 1) 6\n",
      "(1, 2) 7\n",
      "(1, 3) 8\n"
     ]
    }
   ],
   "source": [
    "# enumerate on high dimension arrays\n",
    "arr = np.array([[1, 2, 3, 4], [5, 6, 7, 8]])\n",
    "\n",
    "for idx, x in np.ndenumerate(arr):\n",
    "  print(idx, x) "
   ]
  },
  {
   "attachments": {},
   "cell_type": "markdown",
   "metadata": {},
   "source": [
    "<h3>Data Types in NumPy</h3>\n",
    " <ul >\n",
    "    <li style=\"color:white\"><b style=\"color:darkred\">i</b> - integer</li>\n",
    "    <li style=\"color:white\"><b style=\"color:darkred\">b</b> - boolean</li>\n",
    "    <li style=\"color:white\"><b style=\"color:darkred\">u</b> - unsigned integer</li>\n",
    "    <li style=\"color:white\"><b style=\"color:darkred\">f</b> - float</li>\n",
    "    <li style=\"color:white\"><b style=\"color:darkred\">c</b> - complex float</li>\n",
    "    <li style=\"color:white\"><b style=\"color:darkred\">m</b> - timedelta</li>\n",
    "    <li style=\"color:white\"><b style=\"color:darkred\">M</b> - datetime</li>\n",
    "    <li style=\"color:white\"><b style=\"color:darkred\">O</b> - object</li>\n",
    "    <li style=\"color:white\"><b style=\"color:darkred\">S</b> - string</li>\n",
    "    <li style=\"color:white\"><b style=\"color:darkred\">U</b> - unicode string</li>\n",
    "    <li style=\"color:white\"><b style=\"color:darkred\">V</b> - fixed chunk of memory for other type ( void )</li>\n",
    " </ul>\n",
    "    \n",
    "\n",
    "\n",
    "\n",
    "\n"
   ]
  },
  {
   "cell_type": "code",
   "execution_count": 38,
   "metadata": {},
   "outputs": [
    {
     "name": "stdout",
     "output_type": "stream",
     "text": [
      "[[ 1  2  3]\n",
      " [ 4  5  6]\n",
      " [ 7  8  9]\n",
      " [10 11 12]]\n"
     ]
    }
   ],
   "source": [
    "# reshaping arrays\n",
    "\n",
    "arr = np.array([1, 2, 3, 4, 5, 6, 7, 8, 9, 10, 11, 12])\n",
    "newarr = arr.reshape(4, 3)\n",
    "print(newarr) "
   ]
  },
  {
   "cell_type": "code",
   "execution_count": 39,
   "metadata": {},
   "outputs": [
    {
     "name": "stdout",
     "output_type": "stream",
     "text": [
      "[[[ 1  2]\n",
      "  [ 3  4]\n",
      "  [ 5  6]]\n",
      "\n",
      " [[ 7  8]\n",
      "  [ 9 10]\n",
      "  [11 12]]]\n"
     ]
    }
   ],
   "source": [
    "arr = np.array([1, 2, 3, 4, 5, 6, 7, 8, 9, 10, 11, 12])\n",
    "newarr = arr.reshape(2, 3, 2)\n",
    "print(newarr) "
   ]
  }
 ],
 "metadata": {
  "kernelspec": {
   "display_name": "base",
   "language": "python",
   "name": "python3"
  },
  "language_info": {
   "codemirror_mode": {
    "name": "ipython",
    "version": 3
   },
   "file_extension": ".py",
   "mimetype": "text/x-python",
   "name": "python",
   "nbconvert_exporter": "python",
   "pygments_lexer": "ipython3",
   "version": "3.9.7"
  },
  "orig_nbformat": 4
 },
 "nbformat": 4,
 "nbformat_minor": 2
}
