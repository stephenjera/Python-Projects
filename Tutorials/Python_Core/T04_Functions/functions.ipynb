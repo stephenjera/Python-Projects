{
 "cells": [
  {
   "attachments": {},
   "cell_type": "markdown",
   "metadata": {},
   "source": [
    "### Functions "
   ]
  },
  {
   "cell_type": "code",
   "execution_count": 1,
   "metadata": {},
   "outputs": [
    {
     "data": {
      "text/plain": [
       "9"
      ]
     },
     "execution_count": 1,
     "metadata": {},
     "output_type": "execute_result"
    }
   ],
   "source": [
    "# defined with def keyword\n",
    "def test(x):\n",
    "    return x * x\n",
    "\n",
    "# Call function\n",
    "test(3)"
   ]
  },
  {
   "cell_type": "code",
   "execution_count": 3,
   "metadata": {},
   "outputs": [
    {
     "name": "stdout",
     "output_type": "stream",
     "text": [
      "I caused a side effect\n"
     ]
    }
   ],
   "source": [
    "# not required to return values\n",
    "def side_effect():\n",
    "    print(\"I caused a side effect\")\n",
    "\n",
    "side_effect()"
   ]
  },
  {
   "cell_type": "code",
   "execution_count": 6,
   "metadata": {},
   "outputs": [
    {
     "name": "stdout",
     "output_type": "stream",
     "text": [
      "odd\n"
     ]
    }
   ],
   "source": [
    "# return early \n",
    "def even_or_odd(a):\n",
    "    if a % 2 == 0:\n",
    "        print(\"even\")\n",
    "        return\n",
    "    print(\"odd\")\n",
    "\n",
    "even_or_odd(3)"
   ]
  },
  {
   "attachments": {},
   "cell_type": "markdown",
   "metadata": {},
   "source": [
    "#### Argument Passing\n"
   ]
  },
  {
   "cell_type": "code",
   "execution_count": 7,
   "metadata": {},
   "outputs": [
    {
     "name": "stdout",
     "output_type": "stream",
     "text": [
      "mod = [1, 2, 3, 4]\n",
      "a =   [1, 2, 3, 4]\n"
     ]
    }
   ],
   "source": [
    "a = [1, 2, 3]\n",
    "\n",
    "\n",
    "def modify(mod):\n",
    "    mod.append(4)\n",
    "    print(\"mod =\", mod)\n",
    "\n",
    "\n",
    "modify(a)\n",
    "\n",
    "# a was modified because it's object reference was passed to the function\n",
    "print(\"a =  \", a)"
   ]
  },
  {
   "attachments": {},
   "cell_type": "markdown",
   "metadata": {},
   "source": [
    "When y is passed to my_function as an argument, a reference to the object that y is bound to is passed to the function. Inside the function, this reference is assigned to the local variable x. This means that x and y are two separate variables that happen to reference the same object."
   ]
  },
  {
   "cell_type": "code",
   "execution_count": null,
   "metadata": {},
   "outputs": [],
   "source": [
    "y = 5\n",
    "\n",
    "\n",
    "def my_function(x):\n",
    "    x = 10\n",
    "\n",
    "\n",
    "my_function(y)\n",
    "print(y)  # prints 5"
   ]
  },
  {
   "attachments": {},
   "cell_type": "markdown",
   "metadata": {},
   "source": [
    "When my_function is called with y as an argument, a reference to the integer object with the value 5 is passed to the function. Inside the function, this reference is assigned to the local variable x. When x is assigned a new value of 10, it is rebound to a new integer object with the value 10. This does not affect the value of y outside the function because x and y are two separate variables.\n",
    "\n",
    "After the function call, the reference to the integer object with the value 5 that was passed to the function still exists and is bound to the variable y. The reference that was assigned to the local variable x inside the function is discarded when the function returns and x goes out of scope."
   ]
  },
  {
   "cell_type": "code",
   "execution_count": 10,
   "metadata": {},
   "outputs": [
    {
     "name": "stdout",
     "output_type": "stream",
     "text": [
      "replace =  [7, 8, 9]\n",
      "old list = [1, 2, 3]\n"
     ]
    }
   ],
   "source": [
    "b = [1, 2, 3]\n",
    "\n",
    "\n",
    "def replace(x):\n",
    "    # x = [1, 2, 3]\n",
    "    x = [7, 8, 9]\n",
    "    print(\"replace = \", x)\n",
    "\n",
    "\n",
    "replace(a)\n",
    "print(\"old list =\", b)"
   ]
  },
  {
   "attachments": {},
   "cell_type": "markdown",
   "metadata": {},
   "source": [
    "#### Default arguments"
   ]
  },
  {
   "cell_type": "code",
   "execution_count": 11,
   "metadata": {},
   "outputs": [
    {
     "name": "stdout",
     "output_type": "stream",
     "text": [
      "4\n"
     ]
    }
   ],
   "source": [
    "# x is a positional argument\n",
    "# y and z are keyword arguments\n",
    "def defaut_args(x, y=4, z=5):\n",
    "    print(x * y * z)\n",
    "\n",
    "\n",
    "defaut_args(4)"
   ]
  },
  {
   "cell_type": "code",
   "execution_count": 21,
   "metadata": {},
   "outputs": [],
   "source": [
    "def add_spam(menu=[]):\n",
    "    menu.append(\"spam\")\n",
    "    return menu"
   ]
  },
  {
   "attachments": {},
   "cell_type": "markdown",
   "metadata": {},
   "source": [
    "<p style=\"color:red\">Don't use mutable objects as default arguments</p>"
   ]
  },
  {
   "cell_type": "code",
   "execution_count": 23,
   "metadata": {},
   "outputs": [
    {
     "data": {
      "text/plain": [
       "['spam', 'spam', 'spam', 'spam', 'spam', 'spam']"
      ]
     },
     "execution_count": 23,
     "metadata": {},
     "output_type": "execute_result"
    }
   ],
   "source": [
    "# add spam is defined once so menu list is created only once\n",
    "# subsequent function calls append to list NOT create new list\n",
    "add_spam()\n",
    "add_spam()\n",
    "add_spam()\n",
    "add_spam()"
   ]
  },
  {
   "cell_type": "code",
   "execution_count": 26,
   "metadata": {},
   "outputs": [],
   "source": [
    "def add_spam_fixed(menu=None):\n",
    "    if menu == None:\n",
    "        menu = []\n",
    "    menu.append(\"spam\")\n",
    "    return menu"
   ]
  },
  {
   "cell_type": "code",
   "execution_count": 27,
   "metadata": {},
   "outputs": [
    {
     "data": {
      "text/plain": [
       "['spam']"
      ]
     },
     "execution_count": 27,
     "metadata": {},
     "output_type": "execute_result"
    }
   ],
   "source": [
    "add_spam_fixed()\n",
    "add_spam_fixed()\n",
    "add_spam_fixed()\n",
    "add_spam_fixed()"
   ]
  },
  {
   "attachments": {},
   "cell_type": "markdown",
   "metadata": {},
   "source": [
    "#### function scope"
   ]
  },
  {
   "cell_type": "code",
   "execution_count": 30,
   "metadata": {},
   "outputs": [
    {
     "name": "stdout",
     "output_type": "stream",
     "text": [
      "14\n"
     ]
    }
   ],
   "source": [
    "# global scope\n",
    "count = 14\n",
    "\n",
    "\n",
    "def show_count():\n",
    "    print(count)\n",
    "\n",
    "\n",
    "show_count()"
   ]
  },
  {
   "cell_type": "code",
   "execution_count": 35,
   "metadata": {},
   "outputs": [
    {
     "name": "stdout",
     "output_type": "stream",
     "text": [
      "5\n",
      "14\n"
     ]
    }
   ],
   "source": [
    "# local scope\n",
    "count = 14\n",
    "\n",
    "\n",
    "def show_count():\n",
    "    count = 5\n",
    "    print(count)\n",
    "\n",
    "\n",
    "show_count()\n",
    "print(count)"
   ]
  },
  {
   "cell_type": "code",
   "execution_count": 36,
   "metadata": {},
   "outputs": [
    {
     "name": "stdout",
     "output_type": "stream",
     "text": [
      "5\n",
      "5\n"
     ]
    }
   ],
   "source": [
    "# using global variables\n",
    "count = 14\n",
    "\n",
    "\n",
    "def show_count():\n",
    "    global count\n",
    "    count = 5\n",
    "    print(count)\n",
    "\n",
    "\n",
    "show_count()\n",
    "print(count)"
   ]
  }
 ],
 "metadata": {
  "kernelspec": {
   "display_name": "base",
   "language": "python",
   "name": "python3"
  },
  "language_info": {
   "codemirror_mode": {
    "name": "ipython",
    "version": 3
   },
   "file_extension": ".py",
   "mimetype": "text/x-python",
   "name": "python",
   "nbconvert_exporter": "python",
   "pygments_lexer": "ipython3",
   "version": "3.9.7"
  },
  "orig_nbformat": 4
 },
 "nbformat": 4,
 "nbformat_minor": 2
}
