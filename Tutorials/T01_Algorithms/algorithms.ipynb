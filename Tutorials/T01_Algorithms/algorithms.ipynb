{
 "cells": [
  {
   "cell_type": "markdown",
   "metadata": {},
   "source": [
    "# The building blocks of algorithms\n",
    "\n",
    "### Sequencing\n",
    "An algorithm is a step-by-step process, and the order of those steps are crucial to ensuring the correctness of an algorithm.\n",
    "\n",
    "### Selection \n",
    "Algorithms can use selection to determine a different set of steps to execute based on a Boolean expression.\n",
    "\n",
    "### Iteration \n",
    "Algorithms often use repetition to execute steps a certain number of times or until a condition is met."
   ]
  },
  {
   "cell_type": "code",
   "execution_count": 22,
   "metadata": {},
   "outputs": [],
   "source": [
    "import ipytest \n",
    "import pytest"
   ]
  },
  {
   "cell_type": "code",
   "execution_count": 3,
   "metadata": {},
   "outputs": [],
   "source": [
    "# Configure pytest\n",
    "ipytest.autoconfig()"
   ]
  },
  {
   "cell_type": "markdown",
   "metadata": {},
   "source": [
    "# Recursion\n",
    "* A function that calls itself"
   ]
  },
  {
   "cell_type": "markdown",
   "metadata": {},
   "source": [
    "### Factorials \n",
    "n! = (n-0) * (n-1) ..."
   ]
  },
  {
   "cell_type": "code",
   "execution_count": 4,
   "metadata": {},
   "outputs": [],
   "source": [
    "# Iterative method \n",
    "def iter_factorial(n):\n",
    "    ans = 1\n",
    "    for i in range(2, n + 1):\n",
    "        print(f\"i: {i}\")\n",
    "        ans *= i\n",
    "        print(f\"ans: {ans}\")\n",
    "    return ans"
   ]
  },
  {
   "cell_type": "code",
   "execution_count": 5,
   "metadata": {},
   "outputs": [
    {
     "name": "stdout",
     "output_type": "stream",
     "text": [
      "i: 2\n",
      "ans: 2\n",
      "i: 3\n",
      "ans: 6\n",
      "i: 4\n",
      "ans: 24\n",
      "i: 5\n",
      "ans: 120\n",
      "120\n"
     ]
    }
   ],
   "source": [
    "print(iter_factorial(5))"
   ]
  },
  {
   "cell_type": "code",
   "execution_count": 19,
   "metadata": {},
   "outputs": [],
   "source": [
    "# Recursive method\n",
    "def recursive_factorial(n):\n",
    "    if n <= 1:\n",
    "        return 1\n",
    "    else:\n",
    "        temp = recursive_factorial(n-1)\n",
    "        temp *= n \n",
    "        print(f'temp: {temp}')\n",
    "        return temp"
   ]
  },
  {
   "cell_type": "code",
   "execution_count": 20,
   "metadata": {},
   "outputs": [
    {
     "name": "stdout",
     "output_type": "stream",
     "text": [
      "temp: 2\n",
      "temp: 6\n",
      "temp: 24\n",
      "temp: 120\n"
     ]
    },
    {
     "data": {
      "text/plain": [
       "120"
      ]
     },
     "execution_count": 20,
     "metadata": {},
     "output_type": "execute_result"
    }
   ],
   "source": [
    "recursive_factorial(5)"
   ]
  },
  {
   "cell_type": "code",
   "execution_count": 7,
   "metadata": {},
   "outputs": [
    {
     "name": "stdout",
     "output_type": "stream",
     "text": [
      "\u001b[32m.\u001b[0m\u001b[32m.\u001b[0m\u001b[32m.\u001b[0m\u001b[32m                                                                                          [100%]\u001b[0m\n",
      "\u001b[32m\u001b[32m\u001b[1m3 passed\u001b[0m\u001b[32m in 0.02s\u001b[0m\u001b[0m\n"
     ]
    },
    {
     "data": {
      "text/plain": [
       "<ExitCode.OK: 0>"
      ]
     },
     "execution_count": 7,
     "metadata": {},
     "output_type": "execute_result"
    }
   ],
   "source": [
    "ipytest.clean_tests()  # Allows renaming tests\n",
    "\n",
    "\n",
    "@pytest.mark.parametrize(\n",
    "    \"test_input, expected\",\n",
    "    [\n",
    "        (0, 1),\n",
    "        (1, 1),\n",
    "        (5, 120),\n",
    "    ],\n",
    ")\n",
    "def test_iter_factorial(test_input, expected):\n",
    "    assert iter_factorial(test_input) == expected\n",
    "\n",
    "\n",
    "@pytest.mark.parametrize(\n",
    "    \"test_input, expected\",\n",
    "    [\n",
    "        (0, 1),\n",
    "        (1, 1),\n",
    "        (5, 120),\n",
    "    ],\n",
    ")\n",
    "def test_iter_factorial(test_input, expected):\n",
    "    assert recursive_factorial(test_input) == expected\n",
    "\n",
    "\n",
    "ipytest.run()"
   ]
  }
 ],
 "metadata": {
  "kernelspec": {
   "display_name": "Python 3.10.7 ('DSA_Sheet_Love_Babbar-jS6GVz2S')",
   "language": "python",
   "name": "python3"
  },
  "language_info": {
   "codemirror_mode": {
    "name": "ipython",
    "version": 3
   },
   "file_extension": ".py",
   "mimetype": "text/x-python",
   "name": "python",
   "nbconvert_exporter": "python",
   "pygments_lexer": "ipython3",
   "version": "3.10.7"
  },
  "orig_nbformat": 4,
  "vscode": {
   "interpreter": {
    "hash": "5a824bf0de68dc95b5c710e57decf9b4fb4104c977e5f96e2613d6c7e65b5642"
   }
  }
 },
 "nbformat": 4,
 "nbformat_minor": 2
}
